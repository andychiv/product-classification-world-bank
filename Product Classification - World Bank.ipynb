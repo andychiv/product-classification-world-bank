{
 "cells": [
  {
   "cell_type": "markdown",
   "id": "c2b71f05",
   "metadata": {},
   "source": [
    "# Product Classification (NLP) : World Bank Project"
   ]
  },
  {
   "cell_type": "code",
   "execution_count": 33,
   "id": "05e822a2",
   "metadata": {},
   "outputs": [],
   "source": [
    "__author__ = \"Andy Chiv\"\n",
    "__email__  = \"andychiv7@gmail.com\""
   ]
  },
  {
   "cell_type": "markdown",
   "id": "f0f49728",
   "metadata": {},
   "source": [
    "# 1. Introduction"
   ]
  },
  {
   "cell_type": "markdown",
   "id": "9ad41d34",
   "metadata": {},
   "source": [
    "In this project, we will be looking at a dataset containing approximately 2000 product descriptions in the USA and UAE.  **Provided by Cal Poly DxHub**, this datasets include 4 main stores: Target (USA), Walmart (USA), Noon (UAE), Ubuy (UAE). The objective in this project is to answer: \n",
    "\n",
    "- How can products be categorized using **classification models**?\n",
    "\n",
    "After performing data preprocessing, this dataset contains the following relevant features: \n",
    "\n",
    "* 'uuid' = Unique Product ID\n",
    "* 'Store' = Store at which the products are sold\n",
    "* 'Category' = Category of the products\n",
    "* 'Description' = Product description\n",
    "* 'Price' = Price of the product in a retail store (in dollars)\n",
    "* 'Unit' = Unit of the product (gram, ounce, liters)\n",
    "* 'Unit Price': Standardized Unit price (dollar/kilogram)\n",
    "\n",
    "---------------------------------------------------------------------------"
   ]
  },
  {
   "cell_type": "markdown",
   "id": "36fdbf9e",
   "metadata": {},
   "source": [
    "First, load libraries and data that we are going use in this project."
   ]
  },
  {
   "cell_type": "code",
   "execution_count": 34,
   "id": "54308f54",
   "metadata": {},
   "outputs": [],
   "source": [
    "import numpy as np \n",
    "import pandas as pd \n",
    "import seaborn as sns \n",
    "import matplotlib.pyplot as plt \n",
    "%matplotlib inline\n",
    "import json\n",
    "import re\n",
    "\n",
    "from sklearn.model_selection import train_test_split"
   ]
  },
  {
   "cell_type": "markdown",
   "id": "d8ed97ea",
   "metadata": {},
   "source": [
    "Loading the data called world_bank_products.csv found in this repository."
   ]
  },
  {
   "cell_type": "code",
   "execution_count": 35,
   "id": "b7dd7e16",
   "metadata": {},
   "outputs": [],
   "source": [
    "df = pd.read_csv('world_bank_products.csv')"
   ]
  },
  {
   "cell_type": "markdown",
   "id": "aafd5d57",
   "metadata": {},
   "source": [
    "# 2. Data Cleaning"
   ]
  },
  {
   "cell_type": "markdown",
   "id": "d51b22d9",
   "metadata": {},
   "source": [
    "This dataset is unorganized, and we will only choose Walmart, Target, Noon dataset to be cleaned since Ubuy sample size is too small (5). For each store, we will use **JSON**, **Pandas**, and **Numpy** to create a new clean data frame that captures only relevant information."
   ]
  },
  {
   "cell_type": "markdown",
   "id": "635eb586",
   "metadata": {},
   "source": [
    "## 2.1 Walmart Data (USA)"
   ]
  },
  {
   "cell_type": "code",
   "execution_count": 36,
   "id": "45155ec0",
   "metadata": {},
   "outputs": [
    {
     "data": {
      "text/html": [
       "<div>\n",
       "<style scoped>\n",
       "    .dataframe tbody tr th:only-of-type {\n",
       "        vertical-align: middle;\n",
       "    }\n",
       "\n",
       "    .dataframe tbody tr th {\n",
       "        vertical-align: top;\n",
       "    }\n",
       "\n",
       "    .dataframe thead th {\n",
       "        text-align: right;\n",
       "    }\n",
       "</style>\n",
       "<table border=\"1\" class=\"dataframe\">\n",
       "  <thead>\n",
       "    <tr style=\"text-align: right;\">\n",
       "      <th></th>\n",
       "      <th>uuid</th>\n",
       "      <th>store</th>\n",
       "      <th>product</th>\n",
       "      <th>info.M.name.S</th>\n",
       "      <th>pricing.M.displayPrice.N</th>\n",
       "      <th>pricing.M.displayUnitPrice.S</th>\n",
       "    </tr>\n",
       "  </thead>\n",
       "  <tbody>\n",
       "    <tr>\n",
       "      <th>0</th>\n",
       "      <td>f87fc9e2-a1c2-4728-97fb-a798aa96f4df</td>\n",
       "      <td>walmart</td>\n",
       "      <td>rice cooker</td>\n",
       "      <td>Ben's Original™ Ready Rice™, Jasmine, 8.5 oz. ...</td>\n",
       "      <td>1.98</td>\n",
       "      <td>(23.3 ¢/oz)</td>\n",
       "    </tr>\n",
       "    <tr>\n",
       "      <th>1</th>\n",
       "      <td>1a039bfe-8fd9-420e-92b8-62c17b120b21</td>\n",
       "      <td>walmart</td>\n",
       "      <td>cereal</td>\n",
       "      <td>Malt-O-Meal Honey Nut Scooters® Breakfast Cere...</td>\n",
       "      <td>5.38</td>\n",
       "      <td>(13.8 ¢/oz)</td>\n",
       "    </tr>\n",
       "    <tr>\n",
       "      <th>2</th>\n",
       "      <td>2edebb8c-9706-468a-8d05-fbc521a690ba</td>\n",
       "      <td>walmart</td>\n",
       "      <td>milk</td>\n",
       "      <td>Producers Whole Unflavored Milk, 1 Quart</td>\n",
       "      <td>1.34</td>\n",
       "      <td>(4.2 ¢/fl oz)</td>\n",
       "    </tr>\n",
       "  </tbody>\n",
       "</table>\n",
       "</div>"
      ],
      "text/plain": [
       "                                   uuid    store      product  \\\n",
       "0  f87fc9e2-a1c2-4728-97fb-a798aa96f4df  walmart  rice cooker   \n",
       "1  1a039bfe-8fd9-420e-92b8-62c17b120b21  walmart       cereal   \n",
       "2  2edebb8c-9706-468a-8d05-fbc521a690ba  walmart         milk   \n",
       "\n",
       "                                       info.M.name.S pricing.M.displayPrice.N  \\\n",
       "0  Ben's Original™ Ready Rice™, Jasmine, 8.5 oz. ...                     1.98   \n",
       "1  Malt-O-Meal Honey Nut Scooters® Breakfast Cere...                     5.38   \n",
       "2           Producers Whole Unflavored Milk, 1 Quart                     1.34   \n",
       "\n",
       "  pricing.M.displayUnitPrice.S  \n",
       "0                  (23.3 ¢/oz)  \n",
       "1                  (13.8 ¢/oz)  \n",
       "2                (4.2 ¢/fl oz)  "
      ]
     },
     "execution_count": 36,
     "metadata": {},
     "output_type": "execute_result"
    }
   ],
   "source": [
    "# Call out only walmart data\n",
    "walmart = df[df['store']=='walmart'].reset_index(drop=True)\n",
    "\n",
    "# Extract the JSON data in walmart\n",
    "wprod = pd.json_normalize(walmart['product-details'].apply(json.loads)).reset_index(drop=True)\n",
    "# We need only product name, price, price per unit\n",
    "wprod = wprod[['info.M.name.S', 'pricing.M.displayPrice.N', 'pricing.M.displayUnitPrice.S']]\n",
    "\n",
    "# Concatenate walmart and wprod \n",
    "walmart = pd.concat([walmart[['uuid', 'store', 'product']], wprod], axis=1)\n",
    "walmart.head(3)"
   ]
  },
  {
   "cell_type": "code",
   "execution_count": 37,
   "id": "3b872276",
   "metadata": {},
   "outputs": [
    {
     "data": {
      "text/html": [
       "<div>\n",
       "<style scoped>\n",
       "    .dataframe tbody tr th:only-of-type {\n",
       "        vertical-align: middle;\n",
       "    }\n",
       "\n",
       "    .dataframe tbody tr th {\n",
       "        vertical-align: top;\n",
       "    }\n",
       "\n",
       "    .dataframe thead th {\n",
       "        text-align: right;\n",
       "    }\n",
       "</style>\n",
       "<table border=\"1\" class=\"dataframe\">\n",
       "  <thead>\n",
       "    <tr style=\"text-align: right;\">\n",
       "      <th></th>\n",
       "      <th>uuid</th>\n",
       "      <th>store</th>\n",
       "      <th>product</th>\n",
       "      <th>description</th>\n",
       "      <th>price</th>\n",
       "      <th>displayedUnitPrice</th>\n",
       "    </tr>\n",
       "  </thead>\n",
       "  <tbody>\n",
       "    <tr>\n",
       "      <th>0</th>\n",
       "      <td>f87fc9e2-a1c2-4728-97fb-a798aa96f4df</td>\n",
       "      <td>walmart</td>\n",
       "      <td>rice cooker</td>\n",
       "      <td>Ben's Original™ Ready Rice™, Jasmine, 8.5 oz. ...</td>\n",
       "      <td>1.98</td>\n",
       "      <td>(23.3 ¢/oz)</td>\n",
       "    </tr>\n",
       "    <tr>\n",
       "      <th>1</th>\n",
       "      <td>1a039bfe-8fd9-420e-92b8-62c17b120b21</td>\n",
       "      <td>walmart</td>\n",
       "      <td>cereal</td>\n",
       "      <td>Malt-O-Meal Honey Nut Scooters® Breakfast Cere...</td>\n",
       "      <td>5.38</td>\n",
       "      <td>(13.8 ¢/oz)</td>\n",
       "    </tr>\n",
       "    <tr>\n",
       "      <th>2</th>\n",
       "      <td>2edebb8c-9706-468a-8d05-fbc521a690ba</td>\n",
       "      <td>walmart</td>\n",
       "      <td>milk</td>\n",
       "      <td>Producers Whole Unflavored Milk, 1 Quart</td>\n",
       "      <td>1.34</td>\n",
       "      <td>(4.2 ¢/fl oz)</td>\n",
       "    </tr>\n",
       "  </tbody>\n",
       "</table>\n",
       "</div>"
      ],
      "text/plain": [
       "                                   uuid    store      product  \\\n",
       "0  f87fc9e2-a1c2-4728-97fb-a798aa96f4df  walmart  rice cooker   \n",
       "1  1a039bfe-8fd9-420e-92b8-62c17b120b21  walmart       cereal   \n",
       "2  2edebb8c-9706-468a-8d05-fbc521a690ba  walmart         milk   \n",
       "\n",
       "                                         description price displayedUnitPrice  \n",
       "0  Ben's Original™ Ready Rice™, Jasmine, 8.5 oz. ...  1.98        (23.3 ¢/oz)  \n",
       "1  Malt-O-Meal Honey Nut Scooters® Breakfast Cere...  5.38        (13.8 ¢/oz)  \n",
       "2           Producers Whole Unflavored Milk, 1 Quart  1.34      (4.2 ¢/fl oz)  "
      ]
     },
     "execution_count": 37,
     "metadata": {},
     "output_type": "execute_result"
    }
   ],
   "source": [
    "# Rename the colums \n",
    "name_map ={'pricing.M.displayPrice.N':'price',\n",
    "             'info.M.name.S':'description',\n",
    "             'pricing.M.displayUnitPrice.S':'displayedUnitPrice'}\n",
    "\n",
    "walmart = walmart.rename(columns=name_map)\n",
    "walmart.head(3)"
   ]
  },
  {
   "cell_type": "code",
   "execution_count": 38,
   "id": "d3b9cf40",
   "metadata": {},
   "outputs": [],
   "source": [
    "# Regular Expression to extract unit prices\n",
    "def extractPrice(r):\n",
    "    if pd.isnull(r['displayedUnitPrice']):\n",
    "        return np.nan\n",
    "    price = float(re.search('[+-]?([0-9]*[.]?[0-9]+)', str(r['displayedUnitPrice'])).group(1))\n",
    "    if '¢' in r['displayedUnitPrice']:\n",
    "        return round(price/100, 2)\n",
    "    return round(price, 3)\n",
    "\n",
    "# RegEx to extract units\n",
    "def extractUnit(r):\n",
    "    if pd.isnull(r['displayedUnitPrice']):\n",
    "        return np.nan\n",
    "    return re.search('/(.*)\\)$', str(r['displayedUnitPrice'])).group(1)\n",
    "\n",
    "\n",
    "walmart['unitPrice'] = walmart.apply(extractPrice, axis=1)\n",
    "walmart['unit'] = walmart.apply(extractUnit, axis=1)\n",
    "walmart = walmart.drop('displayedUnitPrice', axis=1)"
   ]
  },
  {
   "cell_type": "code",
   "execution_count": 39,
   "id": "a922cc1a",
   "metadata": {},
   "outputs": [
    {
     "data": {
      "text/html": [
       "<div>\n",
       "<style scoped>\n",
       "    .dataframe tbody tr th:only-of-type {\n",
       "        vertical-align: middle;\n",
       "    }\n",
       "\n",
       "    .dataframe tbody tr th {\n",
       "        vertical-align: top;\n",
       "    }\n",
       "\n",
       "    .dataframe thead th {\n",
       "        text-align: right;\n",
       "    }\n",
       "</style>\n",
       "<table border=\"1\" class=\"dataframe\">\n",
       "  <thead>\n",
       "    <tr style=\"text-align: right;\">\n",
       "      <th></th>\n",
       "      <th>uuid</th>\n",
       "      <th>store</th>\n",
       "      <th>product</th>\n",
       "      <th>description</th>\n",
       "      <th>price</th>\n",
       "      <th>unit</th>\n",
       "      <th>unitPrice</th>\n",
       "    </tr>\n",
       "  </thead>\n",
       "  <tbody>\n",
       "    <tr>\n",
       "      <th>0</th>\n",
       "      <td>f87fc9e2-a1c2-4728-97fb-a798aa96f4df</td>\n",
       "      <td>walmart</td>\n",
       "      <td>rice cooker</td>\n",
       "      <td>Ben's Original™ Ready Rice™, Jasmine, 8.5 oz. ...</td>\n",
       "      <td>1.98</td>\n",
       "      <td>oz</td>\n",
       "      <td>0.23</td>\n",
       "    </tr>\n",
       "    <tr>\n",
       "      <th>1</th>\n",
       "      <td>1a039bfe-8fd9-420e-92b8-62c17b120b21</td>\n",
       "      <td>walmart</td>\n",
       "      <td>cereal</td>\n",
       "      <td>Malt-O-Meal Honey Nut Scooters® Breakfast Cere...</td>\n",
       "      <td>5.38</td>\n",
       "      <td>oz</td>\n",
       "      <td>0.14</td>\n",
       "    </tr>\n",
       "    <tr>\n",
       "      <th>2</th>\n",
       "      <td>2edebb8c-9706-468a-8d05-fbc521a690ba</td>\n",
       "      <td>walmart</td>\n",
       "      <td>milk</td>\n",
       "      <td>Producers Whole Unflavored Milk, 1 Quart</td>\n",
       "      <td>1.34</td>\n",
       "      <td>fl oz</td>\n",
       "      <td>0.04</td>\n",
       "    </tr>\n",
       "  </tbody>\n",
       "</table>\n",
       "</div>"
      ],
      "text/plain": [
       "                                   uuid    store      product  \\\n",
       "0  f87fc9e2-a1c2-4728-97fb-a798aa96f4df  walmart  rice cooker   \n",
       "1  1a039bfe-8fd9-420e-92b8-62c17b120b21  walmart       cereal   \n",
       "2  2edebb8c-9706-468a-8d05-fbc521a690ba  walmart         milk   \n",
       "\n",
       "                                         description price   unit unitPrice  \n",
       "0  Ben's Original™ Ready Rice™, Jasmine, 8.5 oz. ...  1.98     oz      0.23  \n",
       "1  Malt-O-Meal Honey Nut Scooters® Breakfast Cere...  5.38     oz      0.14  \n",
       "2           Producers Whole Unflavored Milk, 1 Quart  1.34  fl oz      0.04  "
      ]
     },
     "execution_count": 39,
     "metadata": {},
     "output_type": "execute_result"
    }
   ],
   "source": [
    "# Data imputation\n",
    "walmart['unitPrice'] = walmart['unitPrice'].fillna(walmart['price'])\n",
    "walmart['unit'] = walmart['unit'].fillna('ea')\n",
    "\n",
    "# Clean units\n",
    "def cleanUnit(r):\n",
    "    unit = r['unit'].lower().replace('.', '')\n",
    "    if unit == 'fluid ounce':\n",
    "        return 'fl oz'\n",
    "    return unit\n",
    "\n",
    "walmart['unit'] = walmart.apply(cleanUnit, axis=1)\n",
    "walmart = walmart.reindex(columns =[\"uuid\", \"store\", \"product\", \"description\", \"price\", \"unit\", \"unitPrice\"])\n",
    "\n",
    "# Final walmart data\n",
    "walmart.head(3)"
   ]
  },
  {
   "cell_type": "markdown",
   "id": "c0c86855",
   "metadata": {},
   "source": [
    "## 2.2 Target Data (USA)"
   ]
  },
  {
   "cell_type": "code",
   "execution_count": 40,
   "id": "9845df13",
   "metadata": {},
   "outputs": [
    {
     "data": {
      "text/html": [
       "<div>\n",
       "<style scoped>\n",
       "    .dataframe tbody tr th:only-of-type {\n",
       "        vertical-align: middle;\n",
       "    }\n",
       "\n",
       "    .dataframe tbody tr th {\n",
       "        vertical-align: top;\n",
       "    }\n",
       "\n",
       "    .dataframe thead th {\n",
       "        text-align: right;\n",
       "    }\n",
       "</style>\n",
       "<table border=\"1\" class=\"dataframe\">\n",
       "  <thead>\n",
       "    <tr style=\"text-align: right;\">\n",
       "      <th></th>\n",
       "      <th>uuid</th>\n",
       "      <th>category</th>\n",
       "      <th>date-collected</th>\n",
       "      <th>product</th>\n",
       "      <th>product-details</th>\n",
       "      <th>query</th>\n",
       "      <th>store</th>\n",
       "    </tr>\n",
       "  </thead>\n",
       "  <tbody>\n",
       "    <tr>\n",
       "      <th>0</th>\n",
       "      <td>d0349131-9f38-4774-952a-a6e54c0e9554</td>\n",
       "      <td>vegetables</td>\n",
       "      <td>2021-08-24</td>\n",
       "      <td>vegetables</td>\n",
       "      <td>{\"tcin\":{\"S\":\"47095644\"},\"pricing\":{\"M\":{\"curr...</td>\n",
       "      <td>vegetables</td>\n",
       "      <td>target</td>\n",
       "    </tr>\n",
       "    <tr>\n",
       "      <th>1</th>\n",
       "      <td>71cd340b-27f1-477b-a9c0-5f021bbf3b16</td>\n",
       "      <td>oils_fats</td>\n",
       "      <td>2021-08-24</td>\n",
       "      <td>butter</td>\n",
       "      <td>{\"tcin\":{\"S\":\"53930343\"},\"pricing\":{\"M\":{\"curr...</td>\n",
       "      <td>butter</td>\n",
       "      <td>target</td>\n",
       "    </tr>\n",
       "  </tbody>\n",
       "</table>\n",
       "</div>"
      ],
      "text/plain": [
       "                                   uuid    category date-collected  \\\n",
       "0  d0349131-9f38-4774-952a-a6e54c0e9554  vegetables     2021-08-24   \n",
       "1  71cd340b-27f1-477b-a9c0-5f021bbf3b16   oils_fats     2021-08-24   \n",
       "\n",
       "      product                                    product-details       query  \\\n",
       "0  vegetables  {\"tcin\":{\"S\":\"47095644\"},\"pricing\":{\"M\":{\"curr...  vegetables   \n",
       "1      butter  {\"tcin\":{\"S\":\"53930343\"},\"pricing\":{\"M\":{\"curr...      butter   \n",
       "\n",
       "    store  \n",
       "0  target  \n",
       "1  target  "
      ]
     },
     "execution_count": 40,
     "metadata": {},
     "output_type": "execute_result"
    }
   ],
   "source": [
    "target = df[df['store']=='target'].reset_index(drop=True)\n",
    "target.head(2)"
   ]
  },
  {
   "cell_type": "code",
   "execution_count": 41,
   "id": "5cd66668",
   "metadata": {
    "scrolled": true
   },
   "outputs": [
    {
     "data": {
      "text/html": [
       "<div>\n",
       "<style scoped>\n",
       "    .dataframe tbody tr th:only-of-type {\n",
       "        vertical-align: middle;\n",
       "    }\n",
       "\n",
       "    .dataframe tbody tr th {\n",
       "        vertical-align: top;\n",
       "    }\n",
       "\n",
       "    .dataframe thead th {\n",
       "        text-align: right;\n",
       "    }\n",
       "</style>\n",
       "<table border=\"1\" class=\"dataframe\">\n",
       "  <thead>\n",
       "    <tr style=\"text-align: right;\">\n",
       "      <th></th>\n",
       "      <th>description</th>\n",
       "      <th>information</th>\n",
       "      <th>price</th>\n",
       "    </tr>\n",
       "  </thead>\n",
       "  <tbody>\n",
       "    <tr>\n",
       "      <th>0</th>\n",
       "      <td>Avocado - each</td>\n",
       "      <td>[{'S': '&lt;B&gt;Contains:&lt;/B&gt; Does Not Contain Any ...</td>\n",
       "      <td>0.69</td>\n",
       "    </tr>\n",
       "    <tr>\n",
       "      <th>1</th>\n",
       "      <td>Miyoko&amp;#39;s European Style Cultured Vegan But...</td>\n",
       "      <td>[{'S': '&lt;B&gt;Contains:&lt;/B&gt; Coconut, Cashews'}, {...</td>\n",
       "      <td>6.29</td>\n",
       "    </tr>\n",
       "  </tbody>\n",
       "</table>\n",
       "</div>"
      ],
      "text/plain": [
       "                                         description  \\\n",
       "0                                     Avocado - each   \n",
       "1  Miyoko&#39;s European Style Cultured Vegan But...   \n",
       "\n",
       "                                         information  price  \n",
       "0  [{'S': '<B>Contains:</B> Does Not Contain Any ...   0.69  \n",
       "1  [{'S': '<B>Contains:</B> Coconut, Cashews'}, {...   6.29  "
      ]
     },
     "execution_count": 41,
     "metadata": {},
     "output_type": "execute_result"
    }
   ],
   "source": [
    "tprod = pd.json_normalize(target['product-details'].apply(json.loads)).reset_index(drop=True)\n",
    "\n",
    "# We need Product Description, \n",
    "tprod = tprod[['info.M.product_description.M.title.S',\n",
    "              'info.M.product_description.M.bullet_descriptions.L',\n",
    "              'pricing.M.current_retail.N']]\n",
    "\n",
    "# Rename columns\n",
    "nmap = {'info.M.product_description.M.title.S': 'description',\n",
    "        'info.M.product_description.M.bullet_descriptions.L': 'information',\n",
    "        'pricing.M.current_retail.N': 'price'}\n",
    "tprod = tprod.rename(columns = nmap)\n",
    "\n",
    "# Convert Price to Float Value\n",
    "tprod['price'] = np.asarray(tprod[\"price\"], dtype=float)\n",
    "tprod.head(2)"
   ]
  },
  {
   "cell_type": "code",
   "execution_count": 42,
   "id": "5ab02be8",
   "metadata": {},
   "outputs": [],
   "source": [
    "# Description2 contains Net Weight                =======> Need to extract that value out\n",
    "# Description1 contains Other product information =======> Need to extract that later (optional)"
   ]
  },
  {
   "cell_type": "code",
   "execution_count": 43,
   "id": "f440036a",
   "metadata": {},
   "outputs": [],
   "source": [
    "# Locating the net weight index\n",
    "def find_net_weight(lst: list):\n",
    "  ind = 0\n",
    "  for dic in lst:\n",
    "    if \"Net weight\" in list(dic.values())[0]:\n",
    "      return ind\n",
    "    ind += 1\n",
    "  return None\n",
    "\n",
    "# Extracting the net weight information\n",
    "information = tprod['information']\n",
    "net_weight = []\n",
    "for i in range(0,len(information)): \n",
    "  index = find_net_weight(information[i])\n",
    "  #print('--index', index)\n",
    "  if index != None: \n",
    "    #print(\"digit\", index)\n",
    "    net_wei = information[i][index][\"S\"]\n",
    "    net_weight.append(net_wei)\n",
    "  else: \n",
    "    net_weight.append('None')\n",
    "    \n",
    "# net_weight"
   ]
  },
  {
   "cell_type": "code",
   "execution_count": 44,
   "id": "2f991ed5",
   "metadata": {},
   "outputs": [
    {
     "data": {
      "text/html": [
       "<div>\n",
       "<style scoped>\n",
       "    .dataframe tbody tr th:only-of-type {\n",
       "        vertical-align: middle;\n",
       "    }\n",
       "\n",
       "    .dataframe tbody tr th {\n",
       "        vertical-align: top;\n",
       "    }\n",
       "\n",
       "    .dataframe thead th {\n",
       "        text-align: right;\n",
       "    }\n",
       "</style>\n",
       "<table border=\"1\" class=\"dataframe\">\n",
       "  <thead>\n",
       "    <tr style=\"text-align: right;\">\n",
       "      <th></th>\n",
       "      <th>unit</th>\n",
       "      <th>amount</th>\n",
       "    </tr>\n",
       "  </thead>\n",
       "  <tbody>\n",
       "    <tr>\n",
       "      <th>0</th>\n",
       "      <td>oz</td>\n",
       "      <td>7.5</td>\n",
       "    </tr>\n",
       "    <tr>\n",
       "      <th>1</th>\n",
       "      <td>oz</td>\n",
       "      <td>8.0</td>\n",
       "    </tr>\n",
       "    <tr>\n",
       "      <th>2</th>\n",
       "      <td>oz</td>\n",
       "      <td>14.0</td>\n",
       "    </tr>\n",
       "  </tbody>\n",
       "</table>\n",
       "</div>"
      ],
      "text/plain": [
       "  unit  amount\n",
       "0   oz     7.5\n",
       "1   oz     8.0\n",
       "2   oz    14.0"
      ]
     },
     "execution_count": 44,
     "metadata": {},
     "output_type": "execute_result"
    }
   ],
   "source": [
    "# Extracting the unit and amount from net_weight\n",
    "amount = []\n",
    "unit = []\n",
    "pattern_num = '([0-9]*[.]?[0-9]+)'\n",
    "\n",
    "for each_weight in net_weight: \n",
    "  result = re.findall(pattern_num, each_weight)\n",
    "  if result == []: \n",
    "    amount.append(None)\n",
    "  else: \n",
    "    amount.append(float(result[0])) \n",
    "    \n",
    "for each_weight in net_weight:\n",
    "  unit1 = \"Ounces\"\n",
    "  unit1a = \"oz\"\n",
    "  unit2 = \"Pounds\"\n",
    "  unit2a = 'lb'\n",
    "  unit3 = 'fl oz'\n",
    "  unit3a = 'fl oz'\n",
    "  if unit1 in each_weight:\n",
    "    unit.append(unit1a)\n",
    "  elif unit2 in each_weight: \n",
    "    unit.append(unit2a)\n",
    "  elif unit3 in each_weight: \n",
    "    unit.append(unit3a)\n",
    "  else: \n",
    "    unit.append(None) \n",
    "\n",
    "# Create a new dataframe from unit and amount   \n",
    "nw = pd.DataFrame({'unit': unit, 'amount': amount}).reset_index(drop=True)\n",
    "nw.head(3)"
   ]
  },
  {
   "cell_type": "code",
   "execution_count": 45,
   "id": "c9a2607a",
   "metadata": {},
   "outputs": [
    {
     "data": {
      "text/html": [
       "<div>\n",
       "<style scoped>\n",
       "    .dataframe tbody tr th:only-of-type {\n",
       "        vertical-align: middle;\n",
       "    }\n",
       "\n",
       "    .dataframe tbody tr th {\n",
       "        vertical-align: top;\n",
       "    }\n",
       "\n",
       "    .dataframe thead th {\n",
       "        text-align: right;\n",
       "    }\n",
       "</style>\n",
       "<table border=\"1\" class=\"dataframe\">\n",
       "  <thead>\n",
       "    <tr style=\"text-align: right;\">\n",
       "      <th></th>\n",
       "      <th>uuid</th>\n",
       "      <th>store</th>\n",
       "      <th>product</th>\n",
       "      <th>description</th>\n",
       "      <th>price</th>\n",
       "      <th>unit</th>\n",
       "      <th>unitPrice</th>\n",
       "    </tr>\n",
       "  </thead>\n",
       "  <tbody>\n",
       "    <tr>\n",
       "      <th>0</th>\n",
       "      <td>d0349131-9f38-4774-952a-a6e54c0e9554</td>\n",
       "      <td>target</td>\n",
       "      <td>vegetables</td>\n",
       "      <td>Avocado - each</td>\n",
       "      <td>0.69</td>\n",
       "      <td>oz</td>\n",
       "      <td>0.092</td>\n",
       "    </tr>\n",
       "    <tr>\n",
       "      <th>1</th>\n",
       "      <td>71cd340b-27f1-477b-a9c0-5f021bbf3b16</td>\n",
       "      <td>target</td>\n",
       "      <td>butter</td>\n",
       "      <td>Miyoko&amp;#39;s European Style Cultured Vegan But...</td>\n",
       "      <td>6.29</td>\n",
       "      <td>oz</td>\n",
       "      <td>0.786</td>\n",
       "    </tr>\n",
       "    <tr>\n",
       "      <th>2</th>\n",
       "      <td>52c58065-fb85-4d7d-b700-a134a4547463</td>\n",
       "      <td>target</td>\n",
       "      <td>bread</td>\n",
       "      <td>Take And Bake Ciabatta Bread - 14oz - Favorite...</td>\n",
       "      <td>2.99</td>\n",
       "      <td>oz</td>\n",
       "      <td>0.214</td>\n",
       "    </tr>\n",
       "  </tbody>\n",
       "</table>\n",
       "</div>"
      ],
      "text/plain": [
       "                                   uuid   store     product  \\\n",
       "0  d0349131-9f38-4774-952a-a6e54c0e9554  target  vegetables   \n",
       "1  71cd340b-27f1-477b-a9c0-5f021bbf3b16  target      butter   \n",
       "2  52c58065-fb85-4d7d-b700-a134a4547463  target       bread   \n",
       "\n",
       "                                         description  price unit  unitPrice  \n",
       "0                                     Avocado - each   0.69   oz      0.092  \n",
       "1  Miyoko&#39;s European Style Cultured Vegan But...   6.29   oz      0.786  \n",
       "2  Take And Bake Ciabatta Bread - 14oz - Favorite...   2.99   oz      0.214  "
      ]
     },
     "execution_count": 45,
     "metadata": {},
     "output_type": "execute_result"
    }
   ],
   "source": [
    "temp = pd.concat([tprod, nw], axis =1)\n",
    "target = pd.concat([target[[\"uuid\", \"store\", \"product\"]], temp], axis=1)\n",
    "target.head(2)\n",
    "\n",
    "# Calculate unitPrice =\n",
    "target['unitPrice'] = round(target['price']/target['amount'], 3)\n",
    "\n",
    "# Drop 'information' and 'amount'\n",
    "target.drop(['information', 'amount'], axis=1, inplace = True)\n",
    "# Final target data\n",
    "target.head(3)"
   ]
  },
  {
   "cell_type": "markdown",
   "id": "9a1b6e78",
   "metadata": {},
   "source": [
    "## 2.3 Noon Data (UAE)"
   ]
  },
  {
   "cell_type": "code",
   "execution_count": 46,
   "id": "80e05111",
   "metadata": {
    "scrolled": true
   },
   "outputs": [
    {
     "data": {
      "text/html": [
       "<div>\n",
       "<style scoped>\n",
       "    .dataframe tbody tr th:only-of-type {\n",
       "        vertical-align: middle;\n",
       "    }\n",
       "\n",
       "    .dataframe tbody tr th {\n",
       "        vertical-align: top;\n",
       "    }\n",
       "\n",
       "    .dataframe thead th {\n",
       "        text-align: right;\n",
       "    }\n",
       "</style>\n",
       "<table border=\"1\" class=\"dataframe\">\n",
       "  <thead>\n",
       "    <tr style=\"text-align: right;\">\n",
       "      <th></th>\n",
       "      <th>uuid</th>\n",
       "      <th>category</th>\n",
       "      <th>date-collected</th>\n",
       "      <th>product</th>\n",
       "      <th>product-details</th>\n",
       "      <th>query</th>\n",
       "      <th>store</th>\n",
       "    </tr>\n",
       "  </thead>\n",
       "  <tbody>\n",
       "    <tr>\n",
       "      <th>0</th>\n",
       "      <td>93fc6bce-7760-4ee0-b29c-29df2bcb1b50</td>\n",
       "      <td>vegetables</td>\n",
       "      <td>2021-08-24</td>\n",
       "      <td>vegetables</td>\n",
       "      <td>{\"images\":{\"M\":{\"image_keys\":{\"L\":[{\"S\":\"v1628...</td>\n",
       "      <td>vegetables</td>\n",
       "      <td>noon</td>\n",
       "    </tr>\n",
       "    <tr>\n",
       "      <th>1</th>\n",
       "      <td>91c95b6f-9644-42b0-a54e-ec6e30eb03ca</td>\n",
       "      <td>fish_seafood</td>\n",
       "      <td>2021-08-23</td>\n",
       "      <td>seafood</td>\n",
       "      <td>{\"images\":{\"M\":{\"image_keys\":{\"L\":[{\"S\":\"v1558...</td>\n",
       "      <td>seafood</td>\n",
       "      <td>noon</td>\n",
       "    </tr>\n",
       "  </tbody>\n",
       "</table>\n",
       "</div>"
      ],
      "text/plain": [
       "                                   uuid      category date-collected  \\\n",
       "0  93fc6bce-7760-4ee0-b29c-29df2bcb1b50    vegetables     2021-08-24   \n",
       "1  91c95b6f-9644-42b0-a54e-ec6e30eb03ca  fish_seafood     2021-08-23   \n",
       "\n",
       "      product                                    product-details       query  \\\n",
       "0  vegetables  {\"images\":{\"M\":{\"image_keys\":{\"L\":[{\"S\":\"v1628...  vegetables   \n",
       "1     seafood  {\"images\":{\"M\":{\"image_keys\":{\"L\":[{\"S\":\"v1558...     seafood   \n",
       "\n",
       "  store  \n",
       "0  noon  \n",
       "1  noon  "
      ]
     },
     "execution_count": 46,
     "metadata": {},
     "output_type": "execute_result"
    }
   ],
   "source": [
    "noon = df[df['store']=='noon'].reset_index(drop=True)\n",
    "noon.head(2)"
   ]
  },
  {
   "cell_type": "code",
   "execution_count": 47,
   "id": "5730c026",
   "metadata": {},
   "outputs": [
    {
     "data": {
      "text/html": [
       "<div>\n",
       "<style scoped>\n",
       "    .dataframe tbody tr th:only-of-type {\n",
       "        vertical-align: middle;\n",
       "    }\n",
       "\n",
       "    .dataframe tbody tr th {\n",
       "        vertical-align: top;\n",
       "    }\n",
       "\n",
       "    .dataframe thead th {\n",
       "        text-align: right;\n",
       "    }\n",
       "</style>\n",
       "<table border=\"1\" class=\"dataframe\">\n",
       "  <thead>\n",
       "    <tr style=\"text-align: right;\">\n",
       "      <th></th>\n",
       "      <th>description</th>\n",
       "      <th>price(AED)</th>\n",
       "    </tr>\n",
       "  </thead>\n",
       "  <tbody>\n",
       "    <tr>\n",
       "      <th>0</th>\n",
       "      <td>Char Grilled Peppers 290g</td>\n",
       "      <td>13.6</td>\n",
       "    </tr>\n",
       "    <tr>\n",
       "      <th>1</th>\n",
       "      <td>Regular Fish Scaler Silver 6x3.5x11.5inch</td>\n",
       "      <td>157.95</td>\n",
       "    </tr>\n",
       "    <tr>\n",
       "      <th>2</th>\n",
       "      <td>Amla Heat Protect Snake Oil 50ml</td>\n",
       "      <td>32</td>\n",
       "    </tr>\n",
       "  </tbody>\n",
       "</table>\n",
       "</div>"
      ],
      "text/plain": [
       "                                 description price(AED)\n",
       "0                  Char Grilled Peppers 290g       13.6\n",
       "1  Regular Fish Scaler Silver 6x3.5x11.5inch     157.95\n",
       "2           Amla Heat Protect Snake Oil 50ml         32"
      ]
     },
     "execution_count": 47,
     "metadata": {},
     "output_type": "execute_result"
    }
   ],
   "source": [
    "nprod = pd.json_normalize(noon['product-details'].apply(json.loads))\n",
    "nprod = nprod[['name.S', 'pricing.M.price.N']]\n",
    "nprod.head(3)\n",
    "\n",
    "# Rename columns \n",
    "nmap = {'name.S':'description', 'pricing.M.price.N':'price(AED)'}\n",
    "nprod = nprod.rename(columns=nmap)\n",
    "nprod.head(3)"
   ]
  },
  {
   "cell_type": "code",
   "execution_count": 48,
   "id": "adb54f72",
   "metadata": {},
   "outputs": [
    {
     "data": {
      "text/html": [
       "<div>\n",
       "<style scoped>\n",
       "    .dataframe tbody tr th:only-of-type {\n",
       "        vertical-align: middle;\n",
       "    }\n",
       "\n",
       "    .dataframe tbody tr th {\n",
       "        vertical-align: top;\n",
       "    }\n",
       "\n",
       "    .dataframe thead th {\n",
       "        text-align: right;\n",
       "    }\n",
       "</style>\n",
       "<table border=\"1\" class=\"dataframe\">\n",
       "  <thead>\n",
       "    <tr style=\"text-align: right;\">\n",
       "      <th></th>\n",
       "      <th>description</th>\n",
       "      <th>price</th>\n",
       "    </tr>\n",
       "  </thead>\n",
       "  <tbody>\n",
       "    <tr>\n",
       "      <th>0</th>\n",
       "      <td>Char Grilled Peppers 290g</td>\n",
       "      <td>3.71</td>\n",
       "    </tr>\n",
       "    <tr>\n",
       "      <th>1</th>\n",
       "      <td>Regular Fish Scaler Silver 6x3.5x11.5inch</td>\n",
       "      <td>43.04</td>\n",
       "    </tr>\n",
       "    <tr>\n",
       "      <th>2</th>\n",
       "      <td>Amla Heat Protect Snake Oil 50ml</td>\n",
       "      <td>8.72</td>\n",
       "    </tr>\n",
       "  </tbody>\n",
       "</table>\n",
       "</div>"
      ],
      "text/plain": [
       "                                 description  price\n",
       "0                  Char Grilled Peppers 290g   3.71\n",
       "1  Regular Fish Scaler Silver 6x3.5x11.5inch  43.04\n",
       "2           Amla Heat Protect Snake Oil 50ml   8.72"
      ]
     },
     "execution_count": 48,
     "metadata": {},
     "output_type": "execute_result"
    }
   ],
   "source": [
    "# Convert price to USD \n",
    "# July 23 2022, Exchange Rate: 1USD = 3.67 AED\n",
    "nprod['price'] = nprod['price(AED)'].apply(lambda x: round(float(x)/3.67,2))\n",
    "nprod = nprod.drop('price(AED)', axis =1 )\n",
    "nprod.head(3)"
   ]
  },
  {
   "cell_type": "code",
   "execution_count": 49,
   "id": "b91f746d",
   "metadata": {},
   "outputs": [
    {
     "data": {
      "text/html": [
       "<div>\n",
       "<style scoped>\n",
       "    .dataframe tbody tr th:only-of-type {\n",
       "        vertical-align: middle;\n",
       "    }\n",
       "\n",
       "    .dataframe tbody tr th {\n",
       "        vertical-align: top;\n",
       "    }\n",
       "\n",
       "    .dataframe thead th {\n",
       "        text-align: right;\n",
       "    }\n",
       "</style>\n",
       "<table border=\"1\" class=\"dataframe\">\n",
       "  <thead>\n",
       "    <tr style=\"text-align: right;\">\n",
       "      <th></th>\n",
       "      <th>uuid</th>\n",
       "      <th>store</th>\n",
       "      <th>product</th>\n",
       "      <th>description</th>\n",
       "      <th>price</th>\n",
       "    </tr>\n",
       "  </thead>\n",
       "  <tbody>\n",
       "    <tr>\n",
       "      <th>0</th>\n",
       "      <td>93fc6bce-7760-4ee0-b29c-29df2bcb1b50</td>\n",
       "      <td>noon</td>\n",
       "      <td>vegetables</td>\n",
       "      <td>Char Grilled Peppers 290g</td>\n",
       "      <td>3.71</td>\n",
       "    </tr>\n",
       "    <tr>\n",
       "      <th>1</th>\n",
       "      <td>91c95b6f-9644-42b0-a54e-ec6e30eb03ca</td>\n",
       "      <td>noon</td>\n",
       "      <td>seafood</td>\n",
       "      <td>Regular Fish Scaler Silver 6x3.5x11.5inch</td>\n",
       "      <td>43.04</td>\n",
       "    </tr>\n",
       "    <tr>\n",
       "      <th>2</th>\n",
       "      <td>3119a0f2-64a0-4ec7-ad01-f58fb89bcb0a</td>\n",
       "      <td>noon</td>\n",
       "      <td>oil</td>\n",
       "      <td>Amla Heat Protect Snake Oil 50ml</td>\n",
       "      <td>8.72</td>\n",
       "    </tr>\n",
       "  </tbody>\n",
       "</table>\n",
       "</div>"
      ],
      "text/plain": [
       "                                   uuid store     product  \\\n",
       "0  93fc6bce-7760-4ee0-b29c-29df2bcb1b50  noon  vegetables   \n",
       "1  91c95b6f-9644-42b0-a54e-ec6e30eb03ca  noon     seafood   \n",
       "2  3119a0f2-64a0-4ec7-ad01-f58fb89bcb0a  noon         oil   \n",
       "\n",
       "                                 description  price  \n",
       "0                  Char Grilled Peppers 290g   3.71  \n",
       "1  Regular Fish Scaler Silver 6x3.5x11.5inch  43.04  \n",
       "2           Amla Heat Protect Snake Oil 50ml   8.72  "
      ]
     },
     "execution_count": 49,
     "metadata": {},
     "output_type": "execute_result"
    }
   ],
   "source": [
    "noon = pd.concat([noon[['uuid', 'store', 'product']], nprod], axis=1)\n",
    "noon.head(3)"
   ]
  },
  {
   "cell_type": "code",
   "execution_count": 50,
   "id": "62d796c9",
   "metadata": {},
   "outputs": [
    {
     "data": {
      "text/html": [
       "<div>\n",
       "<style scoped>\n",
       "    .dataframe tbody tr th:only-of-type {\n",
       "        vertical-align: middle;\n",
       "    }\n",
       "\n",
       "    .dataframe tbody tr th {\n",
       "        vertical-align: top;\n",
       "    }\n",
       "\n",
       "    .dataframe thead th {\n",
       "        text-align: right;\n",
       "    }\n",
       "</style>\n",
       "<table border=\"1\" class=\"dataframe\">\n",
       "  <thead>\n",
       "    <tr style=\"text-align: right;\">\n",
       "      <th></th>\n",
       "      <th>uuid</th>\n",
       "      <th>store</th>\n",
       "      <th>product</th>\n",
       "      <th>description</th>\n",
       "      <th>price</th>\n",
       "      <th>unit</th>\n",
       "      <th>unitPrice</th>\n",
       "    </tr>\n",
       "  </thead>\n",
       "  <tbody>\n",
       "    <tr>\n",
       "      <th>0</th>\n",
       "      <td>93fc6bce-7760-4ee0-b29c-29df2bcb1b50</td>\n",
       "      <td>noon</td>\n",
       "      <td>vegetables</td>\n",
       "      <td>Char Grilled Peppers 290g</td>\n",
       "      <td>3.71</td>\n",
       "      <td>g</td>\n",
       "      <td>0.01</td>\n",
       "    </tr>\n",
       "    <tr>\n",
       "      <th>1</th>\n",
       "      <td>91c95b6f-9644-42b0-a54e-ec6e30eb03ca</td>\n",
       "      <td>noon</td>\n",
       "      <td>seafood</td>\n",
       "      <td>Regular Fish Scaler Silver 6x3.5x11.5inch</td>\n",
       "      <td>43.04</td>\n",
       "      <td>ea</td>\n",
       "      <td>7.17</td>\n",
       "    </tr>\n",
       "    <tr>\n",
       "      <th>2</th>\n",
       "      <td>3119a0f2-64a0-4ec7-ad01-f58fb89bcb0a</td>\n",
       "      <td>noon</td>\n",
       "      <td>oil</td>\n",
       "      <td>Amla Heat Protect Snake Oil 50ml</td>\n",
       "      <td>8.72</td>\n",
       "      <td>ml</td>\n",
       "      <td>0.17</td>\n",
       "    </tr>\n",
       "  </tbody>\n",
       "</table>\n",
       "</div>"
      ],
      "text/plain": [
       "                                   uuid store     product  \\\n",
       "0  93fc6bce-7760-4ee0-b29c-29df2bcb1b50  noon  vegetables   \n",
       "1  91c95b6f-9644-42b0-a54e-ec6e30eb03ca  noon     seafood   \n",
       "2  3119a0f2-64a0-4ec7-ad01-f58fb89bcb0a  noon         oil   \n",
       "\n",
       "                                 description  price unit  unitPrice  \n",
       "0                  Char Grilled Peppers 290g   3.71    g       0.01  \n",
       "1  Regular Fish Scaler Silver 6x3.5x11.5inch  43.04   ea       7.17  \n",
       "2           Amla Heat Protect Snake Oil 50ml   8.72   ml       0.17  "
      ]
     },
     "execution_count": 50,
     "metadata": {},
     "output_type": "execute_result"
    }
   ],
   "source": [
    "def extractUnit2(row):\n",
    "  matches = re.search(\"([0-9]*[.]?[0-9]+)([a-zA-z]*)\", str(row['description']))\n",
    "  if matches:\n",
    "    if matches.group(1) and matches.group(2):\n",
    "      return pd.Series([float(matches.group(1)), matches.group(2).lower()])\n",
    "  return pd.Series([None, None])\n",
    "\n",
    "noon[['amount', 'unit']] = noon.apply(extractUnit2, axis=1)\n",
    "noon['amount'] = noon['amount'].fillna(1)\n",
    "noon['unit'] = noon['unit'].fillna('ea')\n",
    "\n",
    "# 'x', 'n', 'a', 'fx', 'bbq', 'ss', 'st', 'd', 'e', 'usb', 'ebs', 'h', 'in', 'mm', 'fx', 'bk' -> 'ea'\n",
    "# Convert to 'ea'\n",
    "def cleanUnit2(row):\n",
    "  unit_map = {'gm': 'g', 'grams': 'g', 'mililitre': 'ml', 'ounce': 'oz', 'litre': 'l'}\n",
    "  misc = {'x', 'n', 'a', 'fx', 'bbq', 'ss', 'st', 'd', 'e', 'usb', 'ebs', 'h', 'in', 'cm', 'mm', 'fx', 'bk', 'centimeter','inch', 'w', 'watts'}\n",
    "  if row['unit'] in misc:\n",
    "    return 'ea'\n",
    "  elif row['unit'] in unit_map.keys():\n",
    "    return unit_map[row['unit']]\n",
    "  return row['unit']\n",
    "\n",
    "noon['unit'] = noon.apply(cleanUnit2, axis=1)\n",
    "noon['unitPrice'] = round(noon['price']/noon['amount'], 2)\n",
    "noon = noon.drop(\"amount\", axis = 1)\n",
    "noon.head(3)"
   ]
  },
  {
   "cell_type": "markdown",
   "id": "4191cdd5",
   "metadata": {},
   "source": [
    "## 2.4 Final Data Set"
   ]
  },
  {
   "cell_type": "markdown",
   "id": "b24170fa",
   "metadata": {},
   "source": [
    "Concatenate a clean version of Walmart, Target, Noon and call it \"store\". This new dataset is more accurate and well-formated, ready for **EDA** and **Classification**."
   ]
  },
  {
   "cell_type": "code",
   "execution_count": 51,
   "id": "02d60647",
   "metadata": {
    "scrolled": true
   },
   "outputs": [
    {
     "data": {
      "text/html": [
       "<div>\n",
       "<style scoped>\n",
       "    .dataframe tbody tr th:only-of-type {\n",
       "        vertical-align: middle;\n",
       "    }\n",
       "\n",
       "    .dataframe tbody tr th {\n",
       "        vertical-align: top;\n",
       "    }\n",
       "\n",
       "    .dataframe thead th {\n",
       "        text-align: right;\n",
       "    }\n",
       "</style>\n",
       "<table border=\"1\" class=\"dataframe\">\n",
       "  <thead>\n",
       "    <tr style=\"text-align: right;\">\n",
       "      <th></th>\n",
       "      <th>uuid</th>\n",
       "      <th>store</th>\n",
       "      <th>product</th>\n",
       "      <th>description</th>\n",
       "      <th>price</th>\n",
       "      <th>unit</th>\n",
       "      <th>unitPrice</th>\n",
       "    </tr>\n",
       "  </thead>\n",
       "  <tbody>\n",
       "    <tr>\n",
       "      <th>0</th>\n",
       "      <td>d0349131-9f38-4774-952a-a6e54c0e9554</td>\n",
       "      <td>target</td>\n",
       "      <td>vegetables</td>\n",
       "      <td>Avocado - each</td>\n",
       "      <td>0.69</td>\n",
       "      <td>oz</td>\n",
       "      <td>0.092</td>\n",
       "    </tr>\n",
       "    <tr>\n",
       "      <th>1</th>\n",
       "      <td>71cd340b-27f1-477b-a9c0-5f021bbf3b16</td>\n",
       "      <td>target</td>\n",
       "      <td>butter</td>\n",
       "      <td>Miyoko&amp;#39;s European Style Cultured Vegan But...</td>\n",
       "      <td>6.29</td>\n",
       "      <td>oz</td>\n",
       "      <td>0.786</td>\n",
       "    </tr>\n",
       "    <tr>\n",
       "      <th>2</th>\n",
       "      <td>52c58065-fb85-4d7d-b700-a134a4547463</td>\n",
       "      <td>target</td>\n",
       "      <td>bread</td>\n",
       "      <td>Take And Bake Ciabatta Bread - 14oz - Favorite...</td>\n",
       "      <td>2.99</td>\n",
       "      <td>oz</td>\n",
       "      <td>0.214</td>\n",
       "    </tr>\n",
       "  </tbody>\n",
       "</table>\n",
       "</div>"
      ],
      "text/plain": [
       "                                   uuid   store     product  \\\n",
       "0  d0349131-9f38-4774-952a-a6e54c0e9554  target  vegetables   \n",
       "1  71cd340b-27f1-477b-a9c0-5f021bbf3b16  target      butter   \n",
       "2  52c58065-fb85-4d7d-b700-a134a4547463  target       bread   \n",
       "\n",
       "                                         description  price unit  unitPrice  \n",
       "0                                     Avocado - each   0.69   oz      0.092  \n",
       "1  Miyoko&#39;s European Style Cultured Vegan But...   6.29   oz      0.786  \n",
       "2  Take And Bake Ciabatta Bread - 14oz - Favorite...   2.99   oz      0.214  "
      ]
     },
     "execution_count": 51,
     "metadata": {},
     "output_type": "execute_result"
    }
   ],
   "source": [
    "target = target.reset_index(drop=True)\n",
    "walmart = walmart.reset_index(drop=True)\n",
    "noon = noon.reset_index(drop=True)\n",
    "\n",
    "store = pd.concat([target, walmart, noon], axis=0)\n",
    "\n",
    "# Delete all stores with no price data\n",
    "store = store.dropna(subset=['price'])\n",
    "\n",
    "# Data imputation\n",
    "store['unit'] = store['unit'].fillna('ea')\n",
    "store['unitPrice'] = store['unitPrice'].fillna(store['price'])\n",
    "\n",
    "# convert price and unitPrice to be float\n",
    "store['price'] = np.asarray(store[\"price\"], dtype=float)\n",
    "store['unitPrice'] = np.asarray(store[\"unitPrice\"], dtype=float)\n",
    "store.head(3)"
   ]
  },
  {
   "cell_type": "markdown",
   "id": "74e982c2",
   "metadata": {},
   "source": [
    "# 3. Exploratory Data Analysis"
   ]
  },
  {
   "cell_type": "code",
   "execution_count": 52,
   "id": "29fd422f",
   "metadata": {},
   "outputs": [
    {
     "name": "stdout",
     "output_type": "stream",
     "text": [
      "<class 'pandas.core.frame.DataFrame'>\n",
      "Int64Index: 3420 entries, 0 to 1388\n",
      "Data columns (total 7 columns):\n",
      " #   Column       Non-Null Count  Dtype  \n",
      "---  ------       --------------  -----  \n",
      " 0   uuid         3420 non-null   object \n",
      " 1   store        3420 non-null   object \n",
      " 2   product      3420 non-null   object \n",
      " 3   description  3420 non-null   object \n",
      " 4   price        3420 non-null   float64\n",
      " 5   unit         3420 non-null   object \n",
      " 6   unitPrice    3420 non-null   float64\n",
      "dtypes: float64(2), object(5)\n",
      "memory usage: 213.8+ KB\n"
     ]
    }
   ],
   "source": [
    "store.info()"
   ]
  },
  {
   "cell_type": "code",
   "execution_count": 53,
   "id": "dc07e479",
   "metadata": {},
   "outputs": [
    {
     "data": {
      "text/html": [
       "<div>\n",
       "<style scoped>\n",
       "    .dataframe tbody tr th:only-of-type {\n",
       "        vertical-align: middle;\n",
       "    }\n",
       "\n",
       "    .dataframe tbody tr th {\n",
       "        vertical-align: top;\n",
       "    }\n",
       "\n",
       "    .dataframe thead th {\n",
       "        text-align: right;\n",
       "    }\n",
       "</style>\n",
       "<table border=\"1\" class=\"dataframe\">\n",
       "  <thead>\n",
       "    <tr style=\"text-align: right;\">\n",
       "      <th></th>\n",
       "      <th>price</th>\n",
       "      <th>unitPrice</th>\n",
       "    </tr>\n",
       "  </thead>\n",
       "  <tbody>\n",
       "    <tr>\n",
       "      <th>count</th>\n",
       "      <td>3420.000000</td>\n",
       "      <td>3420.000000</td>\n",
       "    </tr>\n",
       "    <tr>\n",
       "      <th>mean</th>\n",
       "      <td>24.593018</td>\n",
       "      <td>17.198413</td>\n",
       "    </tr>\n",
       "    <tr>\n",
       "      <th>std</th>\n",
       "      <td>76.008862</td>\n",
       "      <td>72.620406</td>\n",
       "    </tr>\n",
       "    <tr>\n",
       "      <th>min</th>\n",
       "      <td>0.180000</td>\n",
       "      <td>0.000000</td>\n",
       "    </tr>\n",
       "    <tr>\n",
       "      <th>25%</th>\n",
       "      <td>2.870000</td>\n",
       "      <td>0.130000</td>\n",
       "    </tr>\n",
       "    <tr>\n",
       "      <th>50%</th>\n",
       "      <td>5.980000</td>\n",
       "      <td>0.380000</td>\n",
       "    </tr>\n",
       "    <tr>\n",
       "      <th>75%</th>\n",
       "      <td>16.992500</td>\n",
       "      <td>6.608750</td>\n",
       "    </tr>\n",
       "    <tr>\n",
       "      <th>max</th>\n",
       "      <td>2997.000000</td>\n",
       "      <td>2997.000000</td>\n",
       "    </tr>\n",
       "  </tbody>\n",
       "</table>\n",
       "</div>"
      ],
      "text/plain": [
       "             price    unitPrice\n",
       "count  3420.000000  3420.000000\n",
       "mean     24.593018    17.198413\n",
       "std      76.008862    72.620406\n",
       "min       0.180000     0.000000\n",
       "25%       2.870000     0.130000\n",
       "50%       5.980000     0.380000\n",
       "75%      16.992500     6.608750\n",
       "max    2997.000000  2997.000000"
      ]
     },
     "execution_count": 53,
     "metadata": {},
     "output_type": "execute_result"
    }
   ],
   "source": [
    "store.describe()"
   ]
  },
  {
   "cell_type": "markdown",
   "id": "a7aef269",
   "metadata": {},
   "source": [
    "Check the number of products in each store:"
   ]
  },
  {
   "cell_type": "code",
   "execution_count": 54,
   "id": "4a9288ee",
   "metadata": {
    "scrolled": true
   },
   "outputs": [
    {
     "data": {
      "text/plain": [
       "noon       1389\n",
       "walmart    1361\n",
       "target      670\n",
       "Name: store, dtype: int64"
      ]
     },
     "execution_count": 54,
     "metadata": {},
     "output_type": "execute_result"
    },
    {
     "data": {
      "image/png": "[encoded data removed]",
      "text/plain": [
       "<Figure size 432x288 with 1 Axes>"
      ]
     },
     "metadata": {
      "needs_background": "light"
     },
     "output_type": "display_data"
    }
   ],
   "source": [
    "sns.countplot(data=store, x='store')\n",
    "store['store'].value_counts()"
   ]
  },
  {
   "cell_type": "markdown",
   "id": "b6d10d4c",
   "metadata": {},
   "source": [
    "Check the number of product category"
   ]
  },
  {
   "cell_type": "code",
   "execution_count": 55,
   "id": "8c4b4d24",
   "metadata": {},
   "outputs": [
    {
     "data": {
      "text/plain": [
       "33"
      ]
     },
     "execution_count": 55,
     "metadata": {},
     "output_type": "execute_result"
    }
   ],
   "source": [
    "store['product'].nunique()"
   ]
  },
  {
   "cell_type": "code",
   "execution_count": 56,
   "id": "875c8907",
   "metadata": {},
   "outputs": [
    {
     "data": {
      "image/png": "[encoded data removed]",
      "text/plain": [
       "<Figure size 1440x720 with 1 Axes>"
      ]
     },
     "metadata": {
      "needs_background": "light"
     },
     "output_type": "display_data"
    }
   ],
   "source": [
    "# Plot the number of items in each product category\n",
    "plt.figure(figsize = (20,10))\n",
    "sns.countplot(data=store, x='product')\n",
    "plt.xticks(rotation=45)\n",
    "plt.tight_layout()"
   ]
  },
  {
   "cell_type": "markdown",
   "id": "bd26fd94",
   "metadata": {},
   "source": [
    "The highest number items in product category is **beef** while **veal** is the lowest."
   ]
  },
  {
   "cell_type": "code",
   "execution_count": 57,
   "id": "dd466a1e",
   "metadata": {},
   "outputs": [
    {
     "data": {
      "text/plain": [
       "beef                268\n",
       "vegetables          134\n",
       "poultry             134\n",
       "milk                134\n",
       "potatoes            134\n",
       "pasta               134\n",
       "butter              134\n",
       "chicken             134\n",
       "cheese              134\n",
       "oil                 134\n",
       "rice                133\n",
       "fish                133\n",
       "seafood             133\n",
       "frozen-seafood      132\n",
       "microwave           119\n",
       "rice cooker         113\n",
       "cereal              107\n",
       "mixer               107\n",
       "eggs                 92\n",
       "bread                90\n",
       "coffee maker         78\n",
       "food processor       77\n",
       "fryer                75\n",
       "lamb                 74\n",
       "tuber-vegetables     74\n",
       "bakery               71\n",
       "frozen-fish          66\n",
       "goat                 63\n",
       "electric grill       62\n",
       "margarine            61\n",
       "curd                 35\n",
       "couscous             32\n",
       "veal                 19\n",
       "Name: product, dtype: int64"
      ]
     },
     "execution_count": 57,
     "metadata": {},
     "output_type": "execute_result"
    }
   ],
   "source": [
    "store['product'].value_counts()"
   ]
  },
  {
   "cell_type": "markdown",
   "id": "957cfe90",
   "metadata": {},
   "source": [
    "## Text Pre-processing"
   ]
  },
  {
   "cell_type": "code",
   "execution_count": 58,
   "id": "1d51b346",
   "metadata": {},
   "outputs": [],
   "source": [
    "import nltk\n",
    "from nltk.stem import PorterStemmer\n",
    "from nltk.corpus import stopwords\n",
    "ps = PorterStemmer()\n",
    "puncts = ['-', '\"', \"'\", '(', ')', ',', '#', '@', ':', ';', '*', '®', '™', '.', '+', '!']\n",
    "\n",
    "def has_numbers(inputString):\n",
    "    return any(char.isdigit() for char in inputString)\n",
    "\n",
    "def getFeatures1(description):\n",
    "  features = {}\n",
    "  words = [w.lower() for w in description.split() if w.lower() not in stopwords.words('english')]\n",
    "  for word in words:\n",
    "    feature = ps.stem(''.join([char for char in word if char not in puncts]))\n",
    "    if len(feature) > 2 and not has_numbers(feature):\n",
    "      features[feature] = True\n",
    "  return features\n",
    "\n",
    "def getData(row):\n",
    "  return [getFeatures1(row['description']), row['product']]\n",
    "\n",
    "allData = list(store.apply(getData, axis=1))"
   ]
  },
  {
   "cell_type": "markdown",
   "id": "93a91552",
   "metadata": {},
   "source": [
    "# Methodolody"
   ]
  },
  {
   "cell_type": "markdown",
   "id": "c1815ed0",
   "metadata": {},
   "source": [
    "## Running Naive Bayes Classification"
   ]
  },
  {
   "cell_type": "code",
   "execution_count": 59,
   "id": "6d20c91f",
   "metadata": {},
   "outputs": [
    {
     "name": "stdout",
     "output_type": "stream",
     "text": [
      "NB accuracy:  0.7383040935672515\n"
     ]
    }
   ],
   "source": [
    "import random\n",
    "\n",
    "random.shuffle(allData)\n",
    "testRatio = 5\n",
    "splitpoint = len(allData) // testRatio\n",
    "test, train = allData[:splitpoint],allData[splitpoint:]\n",
    "\n",
    "nb = nltk.NaiveBayesClassifier.train(train)\n",
    "print(\"NB accuracy: \", nltk.classify.accuracy(nb, test))"
   ]
  },
  {
   "cell_type": "markdown",
   "id": "ac10f857",
   "metadata": {},
   "source": [
    "## Testing Variances of Naive Bayes Model"
   ]
  },
  {
   "cell_type": "markdown",
   "id": "83d0987a",
   "metadata": {},
   "source": [
    "Shuffle the data and run the machine learning model multiple times to check if the accuracy rate changes."
   ]
  },
  {
   "cell_type": "code",
   "execution_count": 75,
   "id": "701ecbe2",
   "metadata": {},
   "outputs": [
    {
     "name": "stdout",
     "output_type": "stream",
     "text": [
      "Iteration 1 accuracy: 0.7616959064327485\n",
      "Iteration 2 accuracy: 0.7309941520467836\n",
      "Iteration 3 accuracy: 0.7090643274853801\n",
      "Iteration 4 accuracy: 0.7616959064327485\n",
      "Iteration 5 accuracy: 0.7076023391812866\n",
      "Iteration 6 accuracy: 0.7251461988304093\n",
      "Iteration 7 accuracy: 0.7456140350877193\n",
      "Iteration 8 accuracy: 0.7368421052631579\n",
      "Iteration 9 accuracy: 0.7426900584795322\n",
      "Iteration 10 accuracy: 0.7280701754385965\n",
      "\n",
      "Average Accuracy: 0.7349415204678362\n"
     ]
    }
   ],
   "source": [
    "k = 10\n",
    "accs = []\n",
    "for _ in range(k):\n",
    "  random.shuffle(allData)\n",
    "  testRatio = 5\n",
    "  splitpoint = len(allData) // testRatio\n",
    "\n",
    "  test, train = allData[:splitpoint],allData[splitpoint:]\n",
    "  nb = nltk.NaiveBayesClassifier.train(train)\n",
    "  acc = nltk.classify.accuracy(nb, test)\n",
    "  print(\"Iteration\",_+1, \"accuracy:\", acc)\n",
    "  accs.append(acc)\n",
    "\n",
    "avg_acc = sum(accs)/k\n",
    "print(\"\\nAverage Accuracy:\", avg_acc)"
   ]
  },
  {
   "cell_type": "code",
   "execution_count": 78,
   "id": "1d4a7df5",
   "metadata": {},
   "outputs": [
    {
     "data": {
      "text/plain": [
       "[<matplotlib.lines.Line2D at 0x7fad07282730>]"
      ]
     },
     "execution_count": 78,
     "metadata": {},
     "output_type": "execute_result"
    },
    {
     "data": {
      "image/png": "[encoded data removed]",
      "text/plain": [
       "<Figure size 864x432 with 1 Axes>"
      ]
     },
     "metadata": {
      "needs_background": "light"
     },
     "output_type": "display_data"
    }
   ],
   "source": [
    "plt.figure(figsize=(12,6))\n",
    "plt.grid()\n",
    "plt.plot(accs, 'o:r', ms=10)"
   ]
  },
  {
   "cell_type": "markdown",
   "id": "64d3bf63",
   "metadata": {},
   "source": [
    "## Conclusion"
   ]
  },
  {
   "cell_type": "markdown",
   "id": "6ef8a980",
   "metadata": {},
   "source": [
    "Running a supervised machine learning model \"Naives Bayes Classification\" produces an average accuracy rate of **73 percent**. This number indicates that for every 100 products in these 33 categories, we are able to obtain about 73 product categorys correctly classified. "
   ]
  }
 ],
 "metadata": {
  "kernelspec": {
   "display_name": "Python 3 (ipykernel)",
   "language": "python",
   "name": "python3"
  },
  "language_info": {
   "codemirror_mode": {
    "name": "ipython",
    "version": 3
   },
   "file_extension": ".py",
   "mimetype": "text/x-python",
   "name": "python",
   "nbconvert_exporter": "python",
   "pygments_lexer": "ipython3",
   "version": "3.9.12"
  }
 },
 "nbformat": 4,
 "nbformat_minor": 5
}
